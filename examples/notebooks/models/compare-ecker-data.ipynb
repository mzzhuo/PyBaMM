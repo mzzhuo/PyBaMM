{
 "cells": [
  {
   "cell_type": "markdown",
   "metadata": {},
   "source": [
    "# Comparing with Experimental Data\n",
    "\n",
    "In this notebook we show how to compare results generated in PyBaMM with experimental data. We compare the results of the DFN model (see the [DFN notebook](./models/DFN.ipynb)) with the experimental data from Ecker et. al. [[3]](#References). Results are compared for a constant current discharge at 1C and at 5C."
   ]
  },
  {
   "cell_type": "markdown",
   "metadata": {},
   "source": [
    "First we import pybamm and any other packages required by this example, and then change our working directory to the root of the pybamm folder."
   ]
  },
  {
   "cell_type": "code",
   "execution_count": 1,
   "metadata": {},
   "outputs": [
    {
     "name": "stdout",
     "output_type": "stream",
     "text": [
      "Note: you may need to restart the kernel to use updated packages.\n"
     ]
    }
   ],
   "source": [
    "%pip install pybamm -q    # install PyBaMM if it is not installed\n",
    "import pybamm\n",
    "import os\n",
    "import pandas as pd\n",
    "import numpy as np\n",
    "import matplotlib.pyplot as plt\n",
    "os.chdir(pybamm.__path__[0]+'/..')"
   ]
  },
  {
   "cell_type": "markdown",
   "metadata": {},
   "source": [
    "We then load the Ecker data in from the `.csv` files using `pandas`"
   ]
  },
  {
   "cell_type": "code",
   "execution_count": 2,
   "metadata": {},
   "outputs": [],
   "source": [
    "voltage_data_1C = pd.read_csv(\"pybamm/input/discharge_data/Ecker2015/Ecker_1C.csv\", header=None).to_numpy()\n",
    "voltage_data_5C = pd.read_csv(\"pybamm/input/discharge_data/Ecker2015/Ecker_5C.csv\", header=None).to_numpy()"
   ]
  },
  {
   "cell_type": "markdown",
   "metadata": {},
   "source": [
    "Note that the data is Time [s] vs Voltage [V]."
   ]
  },
  {
   "cell_type": "markdown",
   "metadata": {},
   "source": [
    "We load the DFN model and select the parameter set from the Ecker paper [1]. We update the C-rate an `InputParameter` so that we can re-run the same model at different C-rates without the need to rebuild the model. This is done by passing the flag `[input]`."
   ]
  },
  {
   "cell_type": "code",
   "execution_count": 3,
   "metadata": {},
   "outputs": [],
   "source": [
    "# choose DFN\n",
    "model1 = pybamm.lithium_ion.SPMe()\n",
    "model2 = pybamm.lithium_ion.DFN()\n",
    "\n",
    "# pick parameters, keeping C-rate as an input to be changed for each solve\n",
    "chemistry = pybamm.parameter_sets.Ecker2015\n",
    "parameter_values = pybamm.ParameterValues(chemistry=chemistry)\n",
    "parameter_values.update({\"Current function [A]\": \"[input]\"})"
   ]
  },
  {
   "cell_type": "markdown",
   "metadata": {},
   "source": [
    "For this comparison we choose a fine mesh of 1 finite volume per micron in the electrodes and separator and 1 finite volume per 0.1 micron in the particles"
   ]
  },
  {
   "cell_type": "code",
   "execution_count": 4,
   "metadata": {},
   "outputs": [],
   "source": [
    "var = pybamm.standard_spatial_vars\n",
    "var_pts = {\n",
    "    var.x_n: int(parameter_values.evaluate(model.param.L_n / 1e-6)),\n",
    "    var.x_s: int(parameter_values.evaluate(model.param.L_s / 1e-6)),\n",
    "    var.x_p: int(parameter_values.evaluate(model.param.L_p / 1e-6)),\n",
    "    var.r_n: int(parameter_values.evaluate(model.param.R_n_typ / 1e-7)),\n",
    "    var.r_p: int(parameter_values.evaluate(model.param.R_p_typ / 1e-7)),\n",
    "}"
   ]
  },
  {
   "cell_type": "markdown",
   "metadata": {},
   "source": [
    "We create a simulation using our model, parameters and number of grid points"
   ]
  },
  {
   "cell_type": "code",
   "execution_count": 5,
   "metadata": {},
   "outputs": [],
   "source": [
    "sim1 =  pybamm.Simulation(model1, parameter_values=parameter_values, var_pts=var_pts)\n",
    "sim2 =  pybamm.Simulation(model2, parameter_values=parameter_values, var_pts=var_pts)"
   ]
  },
  {
   "cell_type": "markdown",
   "metadata": {},
   "source": [
    "We can then solve the model for a 1C and 5C discharge "
   ]
  },
  {
   "cell_type": "code",
   "execution_count": 6,
   "metadata": {},
   "outputs": [],
   "source": [
    "C_rates = [1, 5]  # C-rates to solve for\n",
    "capacity = parameter_values[\"Nominal cell capacity [A.h]\"]\n",
    "t_evals = [\n",
    "    np.linspace(0, 3800, 100), \n",
    "    np.linspace(0, 720, 100)\n",
    "] # times to return the solution at\n",
    "solutions1 = [None] * len(C_rates)  # empty list that will hold solutions\n",
    "solutions2 = [None] * len(C_rates)  # empty list that will hold solutions\n",
    "\n",
    "# loop over C-rates\n",
    "for i, C_rate in enumerate(C_rates):\n",
    "    current = C_rate * capacity\n",
    "    sim1.solve(t_eval=t_evals[i], solver=pybamm.CasadiSolver(mode=\"fast\"),inputs={\"Current function [A]\": current})\n",
    "    solutions1[i] = sim1.solution\n",
    "    sim2.solve(t_eval=t_evals[i], solver=pybamm.CasadiSolver(mode=\"fast\"),inputs={\"Current function [A]\": current})\n",
    "    solutions2[i] = sim2.solution"
   ]
  },
  {
   "cell_type": "markdown",
   "metadata": {},
   "source": [
    "Finally we plot the numerical solution against the experimental data"
   ]
  },
  {
   "cell_type": "code",
   "execution_count": 7,
   "metadata": {
    "scrolled": true
   },
   "outputs": [
    {
     "data": {
      "image/png": "[encoded data removed]",
      "text/plain": [
       "<Figure size 936x288 with 2 Axes>"
      ]
     },
     "metadata": {
      "needs_background": "light"
     },
     "output_type": "display_data"
    }
   ],
   "source": [
    "fig, (ax1, ax2) = plt.subplots(1, 2, figsize=(13, 4))\n",
    "\n",
    "# plot the 1C results\n",
    "t_sol = solutions[0][\"Time [s]\"].entries\n",
    "ax1.plot(t_sol, solutions[0][\"Terminal voltage [V]\"](t_sol))\n",
    "ax1.plot(voltage_data_1C[:,0], voltage_data_1C[:,1], \"o\")\n",
    "ax1.set_xlabel(\"Time [s]\")\n",
    "ax1.set_ylabel(\"Voltage [V]\")\n",
    "ax1.set_title(\"1C\")\n",
    "ax1.legend([\"SPMe\", \"DFN\", \"Experiment\"], loc=\"best\")\n",
    "\n",
    "# plot the 5C results\n",
    "t_sol = solutions[1][\"Time [s]\"].entries\n",
    "ax2.plot(t_sol, solutions[1][\"Terminal voltage [V]\"](t_sol))\n",
    "ax2.plot(voltage_data_5C[:,0], voltage_data_5C[:,1], \"o\")\n",
    "ax2.set_xlabel(\"Time [s]\")\n",
    "ax2.set_ylabel(\"Voltage [V]\")\n",
    "ax2.set_title(\"5C\")\n",
    "ax2.legend([\"SPMe\", \"DFN\", \"Experiment\"], loc=\"best\")\n",
    "\n",
    "plt.tight_layout()\n",
    "plt.show()"
   ]
  },
  {
   "cell_type": "markdown",
   "metadata": {},
   "source": [
    "For a 1C discharge we observe an excellent agreement between the model and experiment, both in terms of the overall shape of the curve and the capacity. The agreement between model and experiment is less good at 5C, but in line with other implementations of the DFN (e.g. [[6]](#References)). "
   ]
  },
  {
   "cell_type": "markdown",
   "metadata": {},
   "source": [
    "## References\n",
    "\n",
    "The relevant papers for this notebook are:"
   ]
  },
  {
   "cell_type": "code",
   "execution_count": 8,
   "metadata": {},
   "outputs": [
    {
     "name": "stdout",
     "output_type": "stream",
     "text": [
      "[1] Joel A. E. Andersson, Joris Gillis, Greg Horn, James B. Rawlings, and Moritz Diehl. CasADi – A software framework for nonlinear optimization and optimal control. Mathematical Programming Computation, 11(1):1–36, 2019. doi:10.1007/s12532-018-0139-4.\n",
      "[2] Marc Doyle, Thomas F. Fuller, and John Newman. Modeling of galvanostatic charge and discharge of the lithium/polymer/insertion cell. Journal of the Electrochemical society, 140(6):1526–1533, 1993. doi:10.1149/1.2221597.\n",
      "[3] Madeleine Ecker, Stefan Käbitz, Izaro Laresgoiti, and Dirk Uwe Sauer. Parameterization of a Physico-Chemical Model of a Lithium-Ion Battery: II. Model Validation. Journal of The Electrochemical Society, 162(9):A1849–A1857, 2015. doi:10.1149/2.0541509jes.\n",
      "[4] Madeleine Ecker, Thi Kim Dung Tran, Philipp Dechent, Stefan Käbitz, Alexander Warnecke, and Dirk Uwe Sauer. Parameterization of a Physico-Chemical Model of a Lithium-Ion Battery: I. Determination of Parameters. Journal of the Electrochemical Society, 162(9):A1836–A1848, 2015. doi:10.1149/2.0551509jes.\n",
      "[5] Charles R. Harris, K. Jarrod Millman, Stéfan J. van der Walt, Ralf Gommers, Pauli Virtanen, David Cournapeau, Eric Wieser, Julian Taylor, Sebastian Berg, Nathaniel J. Smith, and others. Array programming with NumPy. Nature, 585(7825):357–362, 2020. doi:10.1038/s41586-020-2649-2.\n",
      "[6] Giles Richardson, Ivan Korotkin, Rahifa Ranom, Michael Castle, and Jamie M. Foster. Generalised single particle models for high-rate operation of graded lithium-ion electrodes: systematic derivation and validation. Electrochimica Acta, 339:135862, 2020. doi:10.1016/j.electacta.2020.135862.\n",
      "[7] Valentin Sulzer, Scott G. Marquis, Robert Timms, Martin Robinson, and S. Jon Chapman. Python Battery Mathematical Modelling (PyBaMM). ECSarXiv. February, 2020. doi:10.1149/osf.io/67ckj.\n",
      "\n"
     ]
    }
   ],
   "source": [
    "pybamm.print_citations()"
   ]
  }
 ],
 "metadata": {
  "kernelspec": {
   "display_name": "Python 3",
   "language": "python",
   "name": "python3"
  },
  "language_info": {
   "codemirror_mode": {
    "name": "ipython",
    "version": 3
   },
   "file_extension": ".py",
   "mimetype": "text/x-python",
   "name": "python",
   "nbconvert_exporter": "python",
   "pygments_lexer": "ipython3",
   "version": "3.7.4"
  }
 },
 "nbformat": 4,
 "nbformat_minor": 2
}